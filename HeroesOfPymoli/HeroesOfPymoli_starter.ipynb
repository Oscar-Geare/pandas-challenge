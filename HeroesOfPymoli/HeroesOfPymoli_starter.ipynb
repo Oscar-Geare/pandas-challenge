{
 "cells": [
  {
   "cell_type": "markdown",
   "metadata": {},
   "source": [
    "### Note\n",
    "* Instructions have been included for each segment. You do not have to follow them exactly, but they are included to help you think through the steps."
   ]
  },
  {
   "source": [
    "# Dependencies and Setup\n",
    "import pandas as pd\n",
    "\n",
    "# File to Load (Remember to Change These)\n",
    "file_to_load = \"Resources/purchase_data.csv\"\n",
    "\n",
    "# Read Purchasing File and store into Pandas data frame\n",
    "purchase_data = pd.read_csv(file_to_load)\n",
    "purchase_data['Age'] = purchase_data['Age'].astype(float)\n",
    "\n",
    "purchase_data.head(25)"
   ],
   "cell_type": "code",
   "metadata": {},
   "execution_count": 328,
   "outputs": [
    {
     "output_type": "execute_result",
     "data": {
      "text/plain": [
       "    Purchase ID  ... Price\n",
       "0             0  ...  3.53\n",
       "1             1  ...  1.56\n",
       "2             2  ...  4.88\n",
       "3             3  ...  3.27\n",
       "4             4  ...  1.44\n",
       "5             5  ...  3.61\n",
       "6             6  ...  2.18\n",
       "7             7  ...  2.67\n",
       "8             8  ...  1.10\n",
       "9             9  ...  3.58\n",
       "10           10  ...  4.74\n",
       "11           11  ...  2.67\n",
       "12           12  ...  4.18\n",
       "13           13  ...  1.70\n",
       "14           14  ...  4.86\n",
       "15           15  ...  2.89\n",
       "16           16  ...  2.52\n",
       "17           17  ...  1.76\n",
       "18           18  ...  4.90\n",
       "19           19  ...  4.64\n",
       "20           20  ...  4.60\n",
       "21           21  ...  1.48\n",
       "22           22  ...  3.81\n",
       "23           23  ...  3.40\n",
       "24           24  ...  3.19\n",
       "\n",
       "[25 rows x 7 columns]"
      ],
      "text/html": "<div>\n<style scoped>\n    .dataframe tbody tr th:only-of-type {\n        vertical-align: middle;\n    }\n\n    .dataframe tbody tr th {\n        vertical-align: top;\n    }\n\n    .dataframe thead th {\n        text-align: right;\n    }\n</style>\n<table border=\"1\" class=\"dataframe\">\n  <thead>\n    <tr style=\"text-align: right;\">\n      <th></th>\n      <th>Purchase ID</th>\n      <th>SN</th>\n      <th>Age</th>\n      <th>Gender</th>\n      <th>Item ID</th>\n      <th>Item Name</th>\n      <th>Price</th>\n    </tr>\n  </thead>\n  <tbody>\n    <tr>\n      <th>0</th>\n      <td>0</td>\n      <td>Lisim78</td>\n      <td>20.0</td>\n      <td>Male</td>\n      <td>108</td>\n      <td>Extraction, Quickblade Of Trembling Hands</td>\n      <td>3.53</td>\n    </tr>\n    <tr>\n      <th>1</th>\n      <td>1</td>\n      <td>Lisovynya38</td>\n      <td>40.0</td>\n      <td>Male</td>\n      <td>143</td>\n      <td>Frenzied Scimitar</td>\n      <td>1.56</td>\n    </tr>\n    <tr>\n      <th>2</th>\n      <td>2</td>\n      <td>Ithergue48</td>\n      <td>24.0</td>\n      <td>Male</td>\n      <td>92</td>\n      <td>Final Critic</td>\n      <td>4.88</td>\n    </tr>\n    <tr>\n      <th>3</th>\n      <td>3</td>\n      <td>Chamassasya86</td>\n      <td>24.0</td>\n      <td>Male</td>\n      <td>100</td>\n      <td>Blindscythe</td>\n      <td>3.27</td>\n    </tr>\n    <tr>\n      <th>4</th>\n      <td>4</td>\n      <td>Iskosia90</td>\n      <td>23.0</td>\n      <td>Male</td>\n      <td>131</td>\n      <td>Fury</td>\n      <td>1.44</td>\n    </tr>\n    <tr>\n      <th>5</th>\n      <td>5</td>\n      <td>Yalae81</td>\n      <td>22.0</td>\n      <td>Male</td>\n      <td>81</td>\n      <td>Dreamkiss</td>\n      <td>3.61</td>\n    </tr>\n    <tr>\n      <th>6</th>\n      <td>6</td>\n      <td>Itheria73</td>\n      <td>36.0</td>\n      <td>Male</td>\n      <td>169</td>\n      <td>Interrogator, Blood Blade of the Queen</td>\n      <td>2.18</td>\n    </tr>\n    <tr>\n      <th>7</th>\n      <td>7</td>\n      <td>Iskjaskst81</td>\n      <td>20.0</td>\n      <td>Male</td>\n      <td>162</td>\n      <td>Abyssal Shard</td>\n      <td>2.67</td>\n    </tr>\n    <tr>\n      <th>8</th>\n      <td>8</td>\n      <td>Undjask33</td>\n      <td>22.0</td>\n      <td>Male</td>\n      <td>21</td>\n      <td>Souleater</td>\n      <td>1.10</td>\n    </tr>\n    <tr>\n      <th>9</th>\n      <td>9</td>\n      <td>Chanosian48</td>\n      <td>35.0</td>\n      <td>Other / Non-Disclosed</td>\n      <td>136</td>\n      <td>Ghastly Adamantite Protector</td>\n      <td>3.58</td>\n    </tr>\n    <tr>\n      <th>10</th>\n      <td>10</td>\n      <td>Inguron55</td>\n      <td>23.0</td>\n      <td>Male</td>\n      <td>95</td>\n      <td>Singed Onyx Warscythe</td>\n      <td>4.74</td>\n    </tr>\n    <tr>\n      <th>11</th>\n      <td>11</td>\n      <td>Haisrisuir60</td>\n      <td>23.0</td>\n      <td>Male</td>\n      <td>162</td>\n      <td>Abyssal Shard</td>\n      <td>2.67</td>\n    </tr>\n    <tr>\n      <th>12</th>\n      <td>12</td>\n      <td>Saelaephos52</td>\n      <td>21.0</td>\n      <td>Male</td>\n      <td>116</td>\n      <td>Renewed Skeletal Katana</td>\n      <td>4.18</td>\n    </tr>\n    <tr>\n      <th>13</th>\n      <td>13</td>\n      <td>Assjaskan73</td>\n      <td>22.0</td>\n      <td>Male</td>\n      <td>4</td>\n      <td>Bloodlord's Fetish</td>\n      <td>1.70</td>\n    </tr>\n    <tr>\n      <th>14</th>\n      <td>14</td>\n      <td>Saesrideu94</td>\n      <td>35.0</td>\n      <td>Male</td>\n      <td>165</td>\n      <td>Bone Crushing Silver Skewer</td>\n      <td>4.86</td>\n    </tr>\n    <tr>\n      <th>15</th>\n      <td>15</td>\n      <td>Lisassa64</td>\n      <td>21.0</td>\n      <td>Female</td>\n      <td>98</td>\n      <td>Deadline, Voice Of Subtlety</td>\n      <td>2.89</td>\n    </tr>\n    <tr>\n      <th>16</th>\n      <td>16</td>\n      <td>Lisirra25</td>\n      <td>20.0</td>\n      <td>Male</td>\n      <td>40</td>\n      <td>Second Chance</td>\n      <td>2.52</td>\n    </tr>\n    <tr>\n      <th>17</th>\n      <td>17</td>\n      <td>Zontibe81</td>\n      <td>21.0</td>\n      <td>Male</td>\n      <td>161</td>\n      <td>Devine</td>\n      <td>1.76</td>\n    </tr>\n    <tr>\n      <th>18</th>\n      <td>18</td>\n      <td>Reunasu60</td>\n      <td>22.0</td>\n      <td>Female</td>\n      <td>82</td>\n      <td>Nirvana</td>\n      <td>4.90</td>\n    </tr>\n    <tr>\n      <th>19</th>\n      <td>19</td>\n      <td>Chamalo71</td>\n      <td>30.0</td>\n      <td>Male</td>\n      <td>89</td>\n      <td>Blazefury, Protector of Delusions</td>\n      <td>4.64</td>\n    </tr>\n    <tr>\n      <th>20</th>\n      <td>20</td>\n      <td>Iathenudil29</td>\n      <td>20.0</td>\n      <td>Male</td>\n      <td>57</td>\n      <td>Despair, Favor of Due Diligence</td>\n      <td>4.60</td>\n    </tr>\n    <tr>\n      <th>21</th>\n      <td>21</td>\n      <td>Phiarithdeu40</td>\n      <td>20.0</td>\n      <td>Male</td>\n      <td>168</td>\n      <td>Sun Strike, Jaws of Twisted Visions</td>\n      <td>1.48</td>\n    </tr>\n    <tr>\n      <th>22</th>\n      <td>22</td>\n      <td>Siarithria38</td>\n      <td>38.0</td>\n      <td>Other / Non-Disclosed</td>\n      <td>24</td>\n      <td>Warped Fetish</td>\n      <td>3.81</td>\n    </tr>\n    <tr>\n      <th>23</th>\n      <td>23</td>\n      <td>Eyrian71</td>\n      <td>40.0</td>\n      <td>Male</td>\n      <td>151</td>\n      <td>Severance</td>\n      <td>3.40</td>\n    </tr>\n    <tr>\n      <th>24</th>\n      <td>24</td>\n      <td>Siala43</td>\n      <td>30.0</td>\n      <td>Male</td>\n      <td>132</td>\n      <td>Persuasion</td>\n      <td>3.19</td>\n    </tr>\n  </tbody>\n</table>\n</div>"
     },
     "metadata": {},
     "execution_count": 328
    }
   ]
  },
  {
   "source": [
    "## Player Count"
   ],
   "cell_type": "markdown",
   "metadata": {}
  },
  {
   "cell_type": "markdown",
   "metadata": {},
   "source": [
    "* Display the total number of players\n"
   ]
  },
  {
   "cell_type": "code",
   "execution_count": 329,
   "metadata": {},
   "outputs": [
    {
     "output_type": "execute_result",
     "data": {
      "text/plain": [
       "   Player Count\n",
       "0           576"
      ],
      "text/html": "<div>\n<style scoped>\n    .dataframe tbody tr th:only-of-type {\n        vertical-align: middle;\n    }\n\n    .dataframe tbody tr th {\n        vertical-align: top;\n    }\n\n    .dataframe thead th {\n        text-align: right;\n    }\n</style>\n<table border=\"1\" class=\"dataframe\">\n  <thead>\n    <tr style=\"text-align: right;\">\n      <th></th>\n      <th>Player Count</th>\n    </tr>\n  </thead>\n  <tbody>\n    <tr>\n      <th>0</th>\n      <td>576</td>\n    </tr>\n  </tbody>\n</table>\n</div>"
     },
     "metadata": {},
     "execution_count": 329
    }
   ],
   "source": [
    "# Create a data subset that we can use later that only looks at unique players\n",
    "singlePlayer = purchase_data.drop_duplicates(subset=\"SN\")\n",
    "\n",
    "# Create separate df for just the player count\n",
    "singleCount = pd.DataFrame({'Player Count':[singlePlayer['SN'].count()]})\n",
    "singleCount"
   ]
  },
  {
   "cell_type": "markdown",
   "metadata": {},
   "source": [
    "## Purchasing Analysis (Total)"
   ]
  },
  {
   "cell_type": "markdown",
   "metadata": {},
   "source": [
    "* Run basic calculations to obtain number of unique items, average price, etc.\n",
    "\n",
    "\n",
    "* Create a summary data frame to hold the results\n",
    "\n",
    "\n",
    "* Optional: give the displayed data cleaner formatting\n",
    "\n",
    "\n",
    "* Display the summary data frame\n"
   ]
  },
  {
   "cell_type": "code",
   "execution_count": 330,
   "metadata": {
    "scrolled": true
   },
   "outputs": [
    {
     "output_type": "execute_result",
     "data": {
      "text/plain": [
       "   Number of Unique Items Average Price  Number of Purchases Total Revenue\n",
       "0                     179         $3.05                  780     $2,379.77"
      ],
      "text/html": "<div>\n<style scoped>\n    .dataframe tbody tr th:only-of-type {\n        vertical-align: middle;\n    }\n\n    .dataframe tbody tr th {\n        vertical-align: top;\n    }\n\n    .dataframe thead th {\n        text-align: right;\n    }\n</style>\n<table border=\"1\" class=\"dataframe\">\n  <thead>\n    <tr style=\"text-align: right;\">\n      <th></th>\n      <th>Number of Unique Items</th>\n      <th>Average Price</th>\n      <th>Number of Purchases</th>\n      <th>Total Revenue</th>\n    </tr>\n  </thead>\n  <tbody>\n    <tr>\n      <th>0</th>\n      <td>179</td>\n      <td>$3.05</td>\n      <td>780</td>\n      <td>$2,379.77</td>\n    </tr>\n  </tbody>\n</table>\n</div>"
     },
     "metadata": {},
     "execution_count": 330
    }
   ],
   "source": [
    "# Below we demonstrate a very basic extended way to get the data we are looking for\n",
    "# Each value ends up as its own variable which we push into a dataframe at the end\n",
    "items = purchase_data['Item Name'].drop_duplicates()\n",
    "itemcount = items.count()\n",
    "\n",
    "price = purchase_data['Price'].mean()\n",
    "\n",
    "purchCount = purchase_data['Purchase ID'].count()\n",
    "totalRevenue = purchase_data['Price'].sum()\n",
    "\n",
    "purchAn_df = pd.DataFrame({'Number of Unique Items':[itemcount],'Average Price':[price],'Number of Purchases':[purchCount],'Total Revenue':[totalRevenue]})\n",
    "# Change the format to money\n",
    "purchAn_df['Average Price'] = purchAn_df['Average Price'].map('${:,.2f}'.format)\n",
    "purchAn_df['Total Revenue'] = purchAn_df['Total Revenue'].map('${:,.2f}'.format)\n",
    "purchAn_df.head()"
   ]
  },
  {
   "cell_type": "markdown",
   "metadata": {},
   "source": [
    "## Gender Demographics"
   ]
  },
  {
   "cell_type": "markdown",
   "metadata": {},
   "source": [
    "* Percentage and Count of Male Players\n",
    "\n",
    "\n",
    "* Percentage and Count of Female Players\n",
    "\n",
    "\n",
    "* Percentage and Count of Other / Non-Disclosed\n",
    "\n",
    "\n"
   ]
  },
  {
   "cell_type": "code",
   "execution_count": 331,
   "metadata": {},
   "outputs": [
    {
     "output_type": "execute_result",
     "data": {
      "text/plain": [
       "                       Gender Percentage of Players\n",
       "Male                      484                84.03%\n",
       "Female                     81                14.06%\n",
       "Other / Non-Disclosed      11                 1.91%"
      ],
      "text/html": "<div>\n<style scoped>\n    .dataframe tbody tr th:only-of-type {\n        vertical-align: middle;\n    }\n\n    .dataframe tbody tr th {\n        vertical-align: top;\n    }\n\n    .dataframe thead th {\n        text-align: right;\n    }\n</style>\n<table border=\"1\" class=\"dataframe\">\n  <thead>\n    <tr style=\"text-align: right;\">\n      <th></th>\n      <th>Gender</th>\n      <th>Percentage of Players</th>\n    </tr>\n  </thead>\n  <tbody>\n    <tr>\n      <th>Male</th>\n      <td>484</td>\n      <td>84.03%</td>\n    </tr>\n    <tr>\n      <th>Female</th>\n      <td>81</td>\n      <td>14.06%</td>\n    </tr>\n    <tr>\n      <th>Other / Non-Disclosed</th>\n      <td>11</td>\n      <td>1.91%</td>\n    </tr>\n  </tbody>\n</table>\n</div>"
     },
     "metadata": {},
     "execution_count": 331
    }
   ],
   "source": [
    "# Find unique gender count and then create a percentage\n",
    "genderCount = pd.DataFrame(singlePlayer['Gender'].value_counts())\n",
    "genderCount['Percentage of Players'] = ((genderCount['Gender'] / genderCount['Gender'].sum()) * 100).map('{:,.2f}%'.format)\n",
    "\n",
    "genderCount.head()"
   ]
  },
  {
   "cell_type": "markdown",
   "metadata": {},
   "source": [
    "\n",
    "## Purchasing Analysis (Gender)"
   ]
  },
  {
   "cell_type": "markdown",
   "metadata": {},
   "source": [
    "* Run basic calculations to obtain purchase count, avg. purchase price, avg. purchase total per person etc. by gender\n",
    "\n",
    "\n",
    "\n",
    "\n",
    "* Create a summary data frame to hold the results\n",
    "\n",
    "\n",
    "* Optional: give the displayed data cleaner formatting\n",
    "\n",
    "\n",
    "* Display the summary data frame"
   ]
  },
  {
   "cell_type": "code",
   "execution_count": 332,
   "metadata": {},
   "outputs": [
    {
     "output_type": "execute_result",
     "data": {
      "text/plain": [
       "                       Purchase Count  ... Avg Total Purchase per Person\n",
       "Gender                                 ...                              \n",
       "Female                            113  ...                         $4.47\n",
       "Male                              652  ...                         $4.07\n",
       "Other / Non-Disclosed              15  ...                         $4.56\n",
       "\n",
       "[3 rows x 4 columns]"
      ],
      "text/html": "<div>\n<style scoped>\n    .dataframe tbody tr th:only-of-type {\n        vertical-align: middle;\n    }\n\n    .dataframe tbody tr th {\n        vertical-align: top;\n    }\n\n    .dataframe thead th {\n        text-align: right;\n    }\n</style>\n<table border=\"1\" class=\"dataframe\">\n  <thead>\n    <tr style=\"text-align: right;\">\n      <th></th>\n      <th>Purchase Count</th>\n      <th>Average Purchase Price</th>\n      <th>Total Purchase Value</th>\n      <th>Avg Total Purchase per Person</th>\n    </tr>\n    <tr>\n      <th>Gender</th>\n      <th></th>\n      <th></th>\n      <th></th>\n      <th></th>\n    </tr>\n  </thead>\n  <tbody>\n    <tr>\n      <th>Female</th>\n      <td>113</td>\n      <td>$3.20</td>\n      <td>$361.94</td>\n      <td>$4.47</td>\n    </tr>\n    <tr>\n      <th>Male</th>\n      <td>652</td>\n      <td>$3.02</td>\n      <td>$1,967.64</td>\n      <td>$4.07</td>\n    </tr>\n    <tr>\n      <th>Other / Non-Disclosed</th>\n      <td>15</td>\n      <td>$3.35</td>\n      <td>$50.19</td>\n      <td>$4.56</td>\n    </tr>\n  </tbody>\n</table>\n</div>"
     },
     "metadata": {},
     "execution_count": 332
    }
   ],
   "source": [
    "# Finally getting into the swing of things and realising there is an easier way to build dataframes\n",
    "genderGroup = purchase_data.groupby('Gender') \n",
    "genderAn = pd.DataFrame(genderGroup['Purchase ID'].count()) \n",
    "genderAn.rename(columns={'Purchase ID':'Purchase Count'},inplace=True) \n",
    "genderAn['Average Purchase Price'] = genderGroup['Price'].mean().map('${:,.2f}'.format) \n",
    "genderAn['Total Purchase Value'] = genderGroup['Price'].sum().map('${:,.2f}'.format)\n",
    "# work out the average per person by calling back to the singleUsers dataframe we created earlier\n",
    "genderAn['Avg Total Purchase per Person'] = (genderGroup['Price'].sum() / singleUsers['Gender'].value_counts()).map('${:,.2f}'.format) \n",
    "genderAn"
   ]
  },
  {
   "cell_type": "markdown",
   "metadata": {},
   "source": [
    "## Age Demographics"
   ]
  },
  {
   "cell_type": "markdown",
   "metadata": {},
   "source": [
    "* Establish bins for ages\n",
    "\n",
    "\n",
    "* Categorize the existing players using the age bins. Hint: use pd.cut()\n",
    "\n",
    "\n",
    "* Calculate the numbers and percentages by age group\n",
    "\n",
    "\n",
    "* Create a summary data frame to hold the results\n",
    "\n",
    "\n",
    "* Optional: round the percentage column to two decimal points\n",
    "\n",
    "\n",
    "* Display Age Demographics Table\n"
   ]
  },
  {
   "cell_type": "code",
   "execution_count": 333,
   "metadata": {},
   "outputs": [
    {
     "output_type": "execute_result",
     "data": {
      "text/plain": [
       "           Total Count Percentage of Players\n",
       "Age Range                                   \n",
       "<10                 17                 2.95%\n",
       "10-14               22                 3.82%\n",
       "15-19              107                18.58%\n",
       "20-24              258                44.79%\n",
       "25-29               77                13.37%\n",
       "30-34               52                 9.03%\n",
       "35-39               31                 5.38%\n",
       ">40                 12                 2.08%"
      ],
      "text/html": "<div>\n<style scoped>\n    .dataframe tbody tr th:only-of-type {\n        vertical-align: middle;\n    }\n\n    .dataframe tbody tr th {\n        vertical-align: top;\n    }\n\n    .dataframe thead th {\n        text-align: right;\n    }\n</style>\n<table border=\"1\" class=\"dataframe\">\n  <thead>\n    <tr style=\"text-align: right;\">\n      <th></th>\n      <th>Total Count</th>\n      <th>Percentage of Players</th>\n    </tr>\n    <tr>\n      <th>Age Range</th>\n      <th></th>\n      <th></th>\n    </tr>\n  </thead>\n  <tbody>\n    <tr>\n      <th>&lt;10</th>\n      <td>17</td>\n      <td>2.95%</td>\n    </tr>\n    <tr>\n      <th>10-14</th>\n      <td>22</td>\n      <td>3.82%</td>\n    </tr>\n    <tr>\n      <th>15-19</th>\n      <td>107</td>\n      <td>18.58%</td>\n    </tr>\n    <tr>\n      <th>20-24</th>\n      <td>258</td>\n      <td>44.79%</td>\n    </tr>\n    <tr>\n      <th>25-29</th>\n      <td>77</td>\n      <td>13.37%</td>\n    </tr>\n    <tr>\n      <th>30-34</th>\n      <td>52</td>\n      <td>9.03%</td>\n    </tr>\n    <tr>\n      <th>35-39</th>\n      <td>31</td>\n      <td>5.38%</td>\n    </tr>\n    <tr>\n      <th>&gt;40</th>\n      <td>12</td>\n      <td>2.08%</td>\n    </tr>\n  </tbody>\n</table>\n</div>"
     },
     "metadata": {},
     "execution_count": 333
    }
   ],
   "source": [
    "# Bins gave me some weird errors for a long time and it's where I got caught up on\n",
    "\n",
    "bins = [0,9,14,19,24,29,34,39,100] # Create bin values - could explore float(\"inf\") or .max()\n",
    "labels = [\"<10\",\"10-14\",\"15-19\",\"20-24\",\"25-29\",\"30-34\",\"35-39\",\">40\"] # bin names\n",
    "singlePlayer['Age'] = singlePlayer['Age'].astype(float) # really should move this up where we create this dataframe\n",
    "\n",
    "# Add the Age Range bins onto the singlePlayer data frame. Could be it's own dataframe maybe?\n",
    "singlePlayer['Age Range'] = pd.cut(singlePlayer['Age'], bins, labels=labels, include_lowest=True)\n",
    "\n",
    "# Group on the age range and then work out player counts and percentages\n",
    "ageGroup_df = singlePlayer.groupby('Age Range')\n",
    "ageDemo_df = pd.DataFrame(ageGroup_df['Age'].count())\n",
    "ageDemo_df.rename(columns={'Age':'Total Count'},inplace=True)\n",
    "ageDemo_df['Percentage of Players'] = ((ageDemo_df['Total Count'] / singlePlayer['Age'].count()) *100).map('{:,.2f}%'.format)\n",
    "ageDemo_df"
   ]
  },
  {
   "cell_type": "markdown",
   "metadata": {},
   "source": [
    "## Purchasing Analysis (Age)"
   ]
  },
  {
   "cell_type": "markdown",
   "metadata": {},
   "source": [
    "* Bin the purchase_data data frame by age\n",
    "\n",
    "\n",
    "* Run basic calculations to obtain purchase count, avg. purchase price, avg. purchase total per person etc. in the table below\n",
    "\n",
    "\n",
    "* Create a summary data frame to hold the results\n",
    "\n",
    "\n",
    "* Optional: give the displayed data cleaner formatting\n",
    "\n",
    "\n",
    "* Display the summary data frame"
   ]
  },
  {
   "cell_type": "code",
   "execution_count": 335,
   "metadata": {},
   "outputs": [
    {
     "output_type": "execute_result",
     "data": {
      "text/plain": [
       "            Purchase Count  ... Avg Total Purchase per Person\n",
       "Age Ranges                  ...                              \n",
       "<10                     23  ...                         $4.54\n",
       "10-14                   28  ...                         $3.76\n",
       "15-19                  136  ...                         $3.86\n",
       "20-24                  365  ...                         $4.32\n",
       "25-29                  101  ...                         $3.81\n",
       "30-34                   73  ...                         $4.12\n",
       "35-39                   41  ...                         $4.76\n",
       ">40                     13  ...                         $3.19\n",
       "\n",
       "[8 rows x 4 columns]"
      ],
      "text/html": "<div>\n<style scoped>\n    .dataframe tbody tr th:only-of-type {\n        vertical-align: middle;\n    }\n\n    .dataframe tbody tr th {\n        vertical-align: top;\n    }\n\n    .dataframe thead th {\n        text-align: right;\n    }\n</style>\n<table border=\"1\" class=\"dataframe\">\n  <thead>\n    <tr style=\"text-align: right;\">\n      <th></th>\n      <th>Purchase Count</th>\n      <th>Average Purchase Price</th>\n      <th>Total Purchase Value</th>\n      <th>Avg Total Purchase per Person</th>\n    </tr>\n    <tr>\n      <th>Age Ranges</th>\n      <th></th>\n      <th></th>\n      <th></th>\n      <th></th>\n    </tr>\n  </thead>\n  <tbody>\n    <tr>\n      <th>&lt;10</th>\n      <td>23</td>\n      <td>$3.35</td>\n      <td>$77.13</td>\n      <td>$4.54</td>\n    </tr>\n    <tr>\n      <th>10-14</th>\n      <td>28</td>\n      <td>$2.96</td>\n      <td>$82.78</td>\n      <td>$3.76</td>\n    </tr>\n    <tr>\n      <th>15-19</th>\n      <td>136</td>\n      <td>$3.04</td>\n      <td>$412.89</td>\n      <td>$3.86</td>\n    </tr>\n    <tr>\n      <th>20-24</th>\n      <td>365</td>\n      <td>$3.05</td>\n      <td>$1,114.06</td>\n      <td>$4.32</td>\n    </tr>\n    <tr>\n      <th>25-29</th>\n      <td>101</td>\n      <td>$2.90</td>\n      <td>$293.00</td>\n      <td>$3.81</td>\n    </tr>\n    <tr>\n      <th>30-34</th>\n      <td>73</td>\n      <td>$2.93</td>\n      <td>$214.00</td>\n      <td>$4.12</td>\n    </tr>\n    <tr>\n      <th>35-39</th>\n      <td>41</td>\n      <td>$3.60</td>\n      <td>$147.67</td>\n      <td>$4.76</td>\n    </tr>\n    <tr>\n      <th>&gt;40</th>\n      <td>13</td>\n      <td>$2.94</td>\n      <td>$38.24</td>\n      <td>$3.19</td>\n    </tr>\n  </tbody>\n</table>\n</div>"
     },
     "metadata": {},
     "execution_count": 335
    }
   ],
   "source": [
    "# Instructions say to add the bins to the purchase_data dataframe. Maybe we could have created a completely separate one?\n",
    "# Same analysis as previous steps\n",
    "\n",
    "purchase_data['Age Ranges'] =  pd.cut(purchase_data['Age'], bins, labels=labels, include_lowest=True)\n",
    "PurAnAge = purchase_data.groupby('Age Ranges')\n",
    "purAnAge_df = pd.DataFrame(PurAnAge['Purchase ID'].count())\n",
    "purAnAge_df.rename(columns={\"Purchase ID\":\"Purchase Count\"},inplace=True)\n",
    "purAnAge_df['Average Purchase Price'] = PurAnAge['Price'].mean().map('${:,.2f}'.format)\n",
    "purAnAge_df['Total Purchase Value'] = PurAnAge['Price'].sum().map('${:,.2f}'.format)\n",
    "purAnAge_df['Avg Total Purchase per Person'] = (PurAnAge['Price'].sum() / ageDemo_df['Total Count']).map('${:,.2f}'.format)\n",
    "purAnAge_df.head(10)\n"
   ]
  },
  {
   "cell_type": "markdown",
   "metadata": {},
   "source": [
    "## Top Spenders"
   ]
  },
  {
   "cell_type": "markdown",
   "metadata": {},
   "source": [
    "* Run basic calculations to obtain the results in the table below\n",
    "\n",
    "\n",
    "* Create a summary data frame to hold the results\n",
    "\n",
    "\n",
    "* Sort the total purchase value column in descending order\n",
    "\n",
    "\n",
    "* Optional: give the displayed data cleaner formatting\n",
    "\n",
    "\n",
    "* Display a preview of the summary data frame\n",
    "\n"
   ]
  },
  {
   "cell_type": "code",
   "execution_count": 285,
   "metadata": {},
   "outputs": [
    {
     "output_type": "execute_result",
     "data": {
      "text/plain": [
       "             Purchase Count Average Purchase Price Total Purchase Value\n",
       "SN                                                                     \n",
       "Lisosia93                 5                  $3.79               $18.96\n",
       "Idastidru52               4                  $3.86               $15.45\n",
       "Chamjask73                3                  $4.61               $13.83\n",
       "Iral74                    4                  $3.40               $13.62\n",
       "Iskadarya95               3                  $4.37               $13.10"
      ],
      "text/html": "<div>\n<style scoped>\n    .dataframe tbody tr th:only-of-type {\n        vertical-align: middle;\n    }\n\n    .dataframe tbody tr th {\n        vertical-align: top;\n    }\n\n    .dataframe thead th {\n        text-align: right;\n    }\n</style>\n<table border=\"1\" class=\"dataframe\">\n  <thead>\n    <tr style=\"text-align: right;\">\n      <th></th>\n      <th>Purchase Count</th>\n      <th>Average Purchase Price</th>\n      <th>Total Purchase Value</th>\n    </tr>\n    <tr>\n      <th>SN</th>\n      <th></th>\n      <th></th>\n      <th></th>\n    </tr>\n  </thead>\n  <tbody>\n    <tr>\n      <th>Lisosia93</th>\n      <td>5</td>\n      <td>$3.79</td>\n      <td>$18.96</td>\n    </tr>\n    <tr>\n      <th>Idastidru52</th>\n      <td>4</td>\n      <td>$3.86</td>\n      <td>$15.45</td>\n    </tr>\n    <tr>\n      <th>Chamjask73</th>\n      <td>3</td>\n      <td>$4.61</td>\n      <td>$13.83</td>\n    </tr>\n    <tr>\n      <th>Iral74</th>\n      <td>4</td>\n      <td>$3.40</td>\n      <td>$13.62</td>\n    </tr>\n    <tr>\n      <th>Iskadarya95</th>\n      <td>3</td>\n      <td>$4.37</td>\n      <td>$13.10</td>\n    </tr>\n  </tbody>\n</table>\n</div>"
     },
     "metadata": {},
     "execution_count": 285
    }
   ],
   "source": [
    "# I really hate groupbys and indexes but I think I'm getting a hang of it now\n",
    "# Had to build out the same analysis as previous however needed to remove index in order to sort by Total Purchase Value\n",
    "topSpenders_grp = purchase_data.groupby('SN')\n",
    "topSpenders_df = pd.DataFrame(topSpenders_grp['Purchase ID'].count())\n",
    "topSpenders_df.rename(columns={\"Purchase ID\":\"Purchase Count\"},inplace=True)\n",
    "topSpenders_df['Average Purchase Price'] = topSpenders_grp['Price'].mean().map('${:,.2f}'.format)\n",
    "topSpenders_df['Total Purchase Value'] = topSpenders_grp['Price'].sum()\n",
    "\n",
    "# Reset index in order to sort, then reset index\n",
    "topSpenders_df = topSpenders_df.reset_index().sort_values(['Total Purchase Value'], ascending=False).set_index('SN')\n",
    "topSpenders_df['Total Purchase Value'] = topSpenders_df['Total Purchase Value'].map('${:,.2f}'.format)\n",
    "topSpenders_df.head()"
   ]
  },
  {
   "cell_type": "markdown",
   "metadata": {},
   "source": [
    "## Most Popular Items"
   ]
  },
  {
   "cell_type": "markdown",
   "metadata": {},
   "source": [
    "* Retrieve the Item ID, Item Name, and Item Price columns\n",
    "\n",
    "\n",
    "* Group by Item ID and Item Name. Perform calculations to obtain purchase count, item price, and total purchase value\n",
    "\n",
    "\n",
    "* Create a summary data frame to hold the results\n",
    "\n",
    "\n",
    "* Sort the purchase count column in descending order\n",
    "\n",
    "\n",
    "* Optional: give the displayed data cleaner formatting\n",
    "\n",
    "\n",
    "* Display a preview of the summary data frame\n",
    "\n"
   ]
  },
  {
   "cell_type": "code",
   "execution_count": 323,
   "metadata": {},
   "outputs": [
    {
     "output_type": "execute_result",
     "data": {
      "text/plain": [
       "                                                      Purchase Count  ... Total Purchase Value\n",
       "Item ID Item Name                                                     ...                     \n",
       "92      Final Critic                                              13  ...               $59.99\n",
       "178     Oathbreaker, Last Hope of the Breaking Storm              12  ...               $50.76\n",
       "145     Fiery Glass Crusader                                       9  ...               $41.22\n",
       "132     Persuasion                                                 9  ...               $28.99\n",
       "108     Extraction, Quickblade Of Trembling Hands                  9  ...               $31.77\n",
       "\n",
       "[5 rows x 3 columns]"
      ],
      "text/html": "<div>\n<style scoped>\n    .dataframe tbody tr th:only-of-type {\n        vertical-align: middle;\n    }\n\n    .dataframe tbody tr th {\n        vertical-align: top;\n    }\n\n    .dataframe thead th {\n        text-align: right;\n    }\n</style>\n<table border=\"1\" class=\"dataframe\">\n  <thead>\n    <tr style=\"text-align: right;\">\n      <th></th>\n      <th></th>\n      <th>Purchase Count</th>\n      <th>Price</th>\n      <th>Total Purchase Value</th>\n    </tr>\n    <tr>\n      <th>Item ID</th>\n      <th>Item Name</th>\n      <th></th>\n      <th></th>\n      <th></th>\n    </tr>\n  </thead>\n  <tbody>\n    <tr>\n      <th>92</th>\n      <th>Final Critic</th>\n      <td>13</td>\n      <td>$4.61</td>\n      <td>$59.99</td>\n    </tr>\n    <tr>\n      <th>178</th>\n      <th>Oathbreaker, Last Hope of the Breaking Storm</th>\n      <td>12</td>\n      <td>$4.23</td>\n      <td>$50.76</td>\n    </tr>\n    <tr>\n      <th>145</th>\n      <th>Fiery Glass Crusader</th>\n      <td>9</td>\n      <td>$4.58</td>\n      <td>$41.22</td>\n    </tr>\n    <tr>\n      <th>132</th>\n      <th>Persuasion</th>\n      <td>9</td>\n      <td>$3.22</td>\n      <td>$28.99</td>\n    </tr>\n    <tr>\n      <th>108</th>\n      <th>Extraction, Quickblade Of Trembling Hands</th>\n      <td>9</td>\n      <td>$3.53</td>\n      <td>$31.77</td>\n    </tr>\n  </tbody>\n</table>\n</div>"
     },
     "metadata": {},
     "execution_count": 323
    }
   ],
   "source": [
    "itemStats = purchase_data.filter(['Item ID','Item Name','Purchase ID','Price']) # Pull relevant fields from original dataframe\n",
    "itemStats_grp = itemStats.groupby(['Item ID','Item Name'])\n",
    "itemStats_df = pd.DataFrame(itemStats_grp['Purchase ID'].count())\n",
    "itemStats_df.rename(columns={\"Purchase ID\":\"Purchase Count\"},inplace=True)\n",
    "itemStats_df['Total Purchase Value'] = itemStats_grp['Price'].sum()\n",
    "itemStats_df['Price'] = itemStats_df['Total Purchase Value'] / itemStats_df['Purchase Count'] # Not sure if this is the right way to do this, but the values match?\n",
    "itemStats_df = itemStats_df[['Purchase Count','Price','Total Purchase Value']]\n",
    "\n",
    "# Putting this into a separate dataframe because of the next question/task\n",
    "popItems_df = itemStats_df\n",
    "# sort by purchase count\n",
    "popItems_df = popItems_df.reset_index().sort_values(['Purchase Count'], ascending=False).set_index(['Item ID','Item Name']) \n",
    "popItems_df['Total Purchase Value'] = popItems_df['Total Purchase Value'].map('${:,.2f}'.format)\n",
    "popItems_df['Price'] = popItems_df['Price'].map('${:,.2f}'.format)\n",
    "\n",
    "popItems_df.head()"
   ]
  },
  {
   "cell_type": "markdown",
   "metadata": {},
   "source": [
    "## Most Profitable Items"
   ]
  },
  {
   "cell_type": "markdown",
   "metadata": {},
   "source": [
    "* Sort the above table by total purchase value in descending order\n",
    "\n",
    "\n",
    "* Optional: give the displayed data cleaner formatting\n",
    "\n",
    "\n",
    "* Display a preview of the data frame\n",
    "\n"
   ]
  },
  {
   "cell_type": "code",
   "execution_count": 326,
   "metadata": {
    "scrolled": true
   },
   "outputs": [
    {
     "output_type": "execute_result",
     "data": {
      "text/plain": [
       "                                                      Purchase Count  ... Total Purchase Value\n",
       "Item ID Item Name                                                     ...                     \n",
       "92      Final Critic                                              13  ...               $59.99\n",
       "178     Oathbreaker, Last Hope of the Breaking Storm              12  ...               $50.76\n",
       "82      Nirvana                                                    9  ...               $44.10\n",
       "145     Fiery Glass Crusader                                       9  ...               $41.22\n",
       "103     Singed Scalpel                                             8  ...               $34.80\n",
       "\n",
       "[5 rows x 3 columns]"
      ],
      "text/html": "<div>\n<style scoped>\n    .dataframe tbody tr th:only-of-type {\n        vertical-align: middle;\n    }\n\n    .dataframe tbody tr th {\n        vertical-align: top;\n    }\n\n    .dataframe thead th {\n        text-align: right;\n    }\n</style>\n<table border=\"1\" class=\"dataframe\">\n  <thead>\n    <tr style=\"text-align: right;\">\n      <th></th>\n      <th></th>\n      <th>Purchase Count</th>\n      <th>Price</th>\n      <th>Total Purchase Value</th>\n    </tr>\n    <tr>\n      <th>Item ID</th>\n      <th>Item Name</th>\n      <th></th>\n      <th></th>\n      <th></th>\n    </tr>\n  </thead>\n  <tbody>\n    <tr>\n      <th>92</th>\n      <th>Final Critic</th>\n      <td>13</td>\n      <td>$4.61</td>\n      <td>$59.99</td>\n    </tr>\n    <tr>\n      <th>178</th>\n      <th>Oathbreaker, Last Hope of the Breaking Storm</th>\n      <td>12</td>\n      <td>$4.23</td>\n      <td>$50.76</td>\n    </tr>\n    <tr>\n      <th>82</th>\n      <th>Nirvana</th>\n      <td>9</td>\n      <td>$4.90</td>\n      <td>$44.10</td>\n    </tr>\n    <tr>\n      <th>145</th>\n      <th>Fiery Glass Crusader</th>\n      <td>9</td>\n      <td>$4.58</td>\n      <td>$41.22</td>\n    </tr>\n    <tr>\n      <th>103</th>\n      <th>Singed Scalpel</th>\n      <td>8</td>\n      <td>$4.35</td>\n      <td>$34.80</td>\n    </tr>\n  </tbody>\n</table>\n</div>"
     },
     "metadata": {},
     "execution_count": 326
    }
   ],
   "source": [
    "profItems_df = itemStats_df\n",
    "# sort by purchase volume\n",
    "profItems_df = profItems_df.reset_index().sort_values(['Total Purchase Value'], ascending=False).set_index(['Item ID','Item Name'])\n",
    "profItems_df['Total Purchase Value'] = profItems_df['Total Purchase Value'].map('${:,.2f}'.format)\n",
    "profItems_df['Price'] = profItems_df['Price'].map('${:,.2f}'.format)\n",
    "\n",
    "profItems_df.head()"
   ]
  },
  {
   "cell_type": "code",
   "execution_count": null,
   "metadata": {},
   "outputs": [],
   "source": []
  }
 ],
 "metadata": {
  "anaconda-cloud": {},
  "kernel_info": {
   "name": "python3"
  },
  "kernelspec": {
   "display_name": "Python 3",
   "language": "python",
   "name": "python3"
  },
  "language_info": {
   "codemirror_mode": {
    "name": "ipython",
    "version": 3
   },
   "file_extension": ".py",
   "mimetype": "text/x-python",
   "name": "python",
   "nbconvert_exporter": "python",
   "pygments_lexer": "ipython3",
   "version": "3.6.10-final"
  },
  "latex_envs": {
   "LaTeX_envs_menu_present": true,
   "autoclose": false,
   "autocomplete": true,
   "bibliofile": "biblio.bib",
   "cite_by": "apalike",
   "current_citInitial": 1,
   "eqLabelWithNumbers": true,
   "eqNumInitial": 1,
   "hotkeys": {
    "equation": "Ctrl-E",
    "itemize": "Ctrl-I"
   },
   "labels_anchors": false,
   "latex_user_defs": false,
   "report_style_numbering": false,
   "user_envs_cfg": false
  },
  "nteract": {
   "version": "0.2.0"
  }
 },
 "nbformat": 4,
 "nbformat_minor": 2
}